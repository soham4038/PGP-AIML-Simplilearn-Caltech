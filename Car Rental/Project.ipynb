{
 "cells": [
  {
   "cell_type": "code",
   "execution_count": null,
   "id": "aa97b37f-d102-4017-ab0a-b0cb30154513",
   "metadata": {
    "scrolled": true
   },
   "outputs": [],
   "source": [
    "import CarRental\n",
    "from datetime import datetime\n",
    "\n",
    "class customer:\n",
    "    \n",
    "    custref = {}  # Creating a dictionary to store booking time against customer id\n",
    "    \n",
    "    def __init__(self):\n",
    "        pass\n",
    "\n",
    "    '''Rental Mode Function'''\n",
    "    def req_mode(self, mode):\n",
    "        if mode == 1:\n",
    "            sel_cars, booktime, m, num = CarRental.CarRental.hourly()\n",
    "        elif mode == 2:\n",
    "            sel_cars, booktime, m, num = CarRental.CarRental.daily()\n",
    "        else:\n",
    "            sel_cars, booktime, m, num = CarRental.CarRental.weekly()\n",
    "        return booktime\n",
    "\n",
    "    def ret(self, bktime, m, n, ret_cars):\n",
    "        CarRental.CarRental.return_cars(bktime, m, n, ret_cars)\n",
    "\n",
    "def main():\n",
    "    while True:\n",
    "   \n",
    "        ob1 = CarRental.CarRental()\n",
    "        ob2 = customer()\n",
    "        print(\"\\nEnter 1 for displaying available cars\\nEnter 2 for rental mode\\nEnter 3 for return\\nEnter 4 to exit\\n\")\n",
    "        ch = int(input())\n",
    "        booktime = datetime.now()  # Initializing variable\n",
    "        \n",
    "        if ch == 1:\n",
    "            ob1.display()\n",
    "        elif ch == 2:\n",
    "            custid = input(\"Enter your Customer ID: \")\n",
    "            m = int(input(\"Enter \\n1 for hourly rental\\n2 for daily\\n3 for weekly\\n \"))\n",
    "            booktime = ob2.req_mode(m)\n",
    "            ob2.custref[custid] = booktime\n",
    "        elif ch == 3:\n",
    "            car_list = {}\n",
    "            custid = input(\"Enter your Customer ID: \")\n",
    "            mode = int(input(\"Enter rental mode\\n1: hourly\\n2: daily\\n3: weekly\\n\"))\n",
    "            num = int(input(\"Enter number of cars: \"))\n",
    "            for i in range(num):\n",
    "                carid = int(input(\"Enter Car ID: \"))\n",
    "                var = CarRental.all_cars.get(carid)\n",
    "                car_list[carid] = var\n",
    "            ob2.ret(ob2.custref.get(custid), ch, num, car_list)  # Passing time of booking by matching custid\n",
    "        elif ch == 4:\n",
    "            break\n",
    "        else:\n",
    "            print(\"Invalid option. Please enter a valid menu choice.\")\n",
    "\n",
    "        input(\"\\nEnter any key to continue....\")\n",
    "\n",
    "\n",
    "if __name__ == \"__main__\":\n",
    "    main()\n"
   ]
  },
  {
   "cell_type": "code",
   "execution_count": null,
   "id": "a4a1b7b3-f072-45d5-8227-f05134edce5f",
   "metadata": {},
   "outputs": [],
   "source": []
  }
 ],
 "metadata": {
  "kernelspec": {
   "display_name": "Python 3 (ipykernel)",
   "language": "python",
   "name": "python3"
  },
  "language_info": {
   "codemirror_mode": {
    "name": "ipython",
    "version": 3
   },
   "file_extension": ".py",
   "mimetype": "text/x-python",
   "name": "python",
   "nbconvert_exporter": "python",
   "pygments_lexer": "ipython3",
   "version": "3.12.3"
  }
 },
 "nbformat": 4,
 "nbformat_minor": 5
}
